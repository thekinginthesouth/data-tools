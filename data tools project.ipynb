{
 "cells": [
  {
   "cell_type": "markdown",
   "id": "b4d52c5a",
   "metadata": {},
   "source": [
    "# Data Science Tools and Practices\n"
   ]
  },
  {
   "cell_type": "markdown",
   "id": "1709cada",
   "metadata": {},
   "source": [
    "## Introduction\n",
    "\n",
    "In this notebook, we will explore various tools and practices commonly used in Data Science. From programming languages to libraries and tools, we will cover essential aspects that every data scientist should know. Additionally, we will provide examples of arithmetic operations and conversions using Python code.\n"
   ]
  },
  {
   "cell_type": "markdown",
   "id": "894de618",
   "metadata": {},
   "source": [
    "## Data Science Languages\n",
    "\n",
    "The following are some of the most popular languages used in Data Science:\n",
    "\n",
    "- Python\n",
    "- R\n",
    "- SQL\n",
    "- Julia\n",
    "- Scala\n"
   ]
  },
  {
   "cell_type": "markdown",
   "id": "68a713b1",
   "metadata": {},
   "source": [
    "## Data Science Libraries\n",
    "\n",
    "Here are some widely used libraries in Data Science:\n",
    "\n",
    "- **Pandas:** Data manipulation and analysis.\n",
    "- **NumPy:** Numerical computing.\n",
    "- **Matplotlib:** Data visualization.\n",
    "- **Scikit-learn:** Machine learning.\n",
    "- **TensorFlow:** Deep learning.\n",
    "- **Keras:** High-level neural networks API.\n"
   ]
  },
  {
   "cell_type": "markdown",
   "id": "62b05b0d",
   "metadata": {},
   "source": [
    "## Data Science Tools\n",
    "\n",
    "The table below lists some of the essential tools used in Data Science:\n",
    "\n",
    "| Tool         | Description                                |\n",
    "|--------------|--------------------------------------------|\n",
    "| Jupyter      | Interactive computing environment         |\n",
    "| RStudio      | Integrated development environment for R  |\n",
    "| Apache Spark | Cluster-computing framework               |\n",
    "| TensorFlow   | Open-source machine learning framework    |\n",
    "| GitHub       | Version control and collaboration platform|\n"
   ]
  },
  {
   "cell_type": "markdown",
   "id": "6bb88bee",
   "metadata": {},
   "source": [
    "## Arithmetic Expression Examples\n",
    "\n",
    "Arithmetic expressions allow us to perform mathematical operations. Below, we will demonstrate examples of basic arithmetic operations such as addition, subtraction, multiplication, and division.\n"
   ]
  },
  {
   "cell_type": "code",
   "execution_count": 7,
   "id": "159597ef",
   "metadata": {},
   "outputs": [
    {
     "data": {
      "text/plain": [
       "(50, 53)"
      ]
     },
     "execution_count": 7,
     "metadata": {},
     "output_type": "execute_result"
    }
   ],
   "source": [
    "# Multiplying and adding numbers\n",
    "a = 5\n",
    "b = 10\n",
    "c = 3\n",
    "\n",
    "# Multiply a and b\n",
    "multiplication_result = a * b\n",
    "\n",
    "# Add the result to c\n",
    "addition_result = multiplication_result + c\n",
    "\n",
    "multiplication_result, addition_result\n"
   ]
  },
  {
   "cell_type": "code",
   "execution_count": 9,
   "id": "c7e50e1d",
   "metadata": {},
   "outputs": [
    {
     "data": {
      "text/plain": [
       "2.0"
      ]
     },
     "execution_count": 9,
     "metadata": {},
     "output_type": "execute_result"
    }
   ],
   "source": [
    "# Converting minutes to hours\n",
    "minutes = 120\n",
    "\n",
    "# 1 hour = 60 minutes\n",
    "hours = minutes / 60\n",
    "hours\n"
   ]
  },
  {
   "cell_type": "markdown",
   "id": "7683a1b4",
   "metadata": {},
   "source": [
    "## Objectives\n",
    "\n",
    "In this notebook, we aim to:\n",
    "\n",
    "- Understand the basic concepts of Data Science.\n",
    "- List and describe popular Data Science languages.\n",
    "- Explore various\n"
   ]
  },
  {
   "cell_type": "markdown",
   "id": "8c5ad356",
   "metadata": {},
   "source": [
    "## Author\n",
    "\n",
    "John Doe\n"
   ]
  }
 ],
 "metadata": {
  "kernelspec": {
   "display_name": "Python 3 (ipykernel)",
   "language": "python",
   "name": "python3"
  },
  "language_info": {
   "codemirror_mode": {
    "name": "ipython",
    "version": 3
   },
   "file_extension": ".py",
   "mimetype": "text/x-python",
   "name": "python",
   "nbconvert_exporter": "python",
   "pygments_lexer": "ipython3",
   "version": "3.11.4"
  }
 },
 "nbformat": 4,
 "nbformat_minor": 5
}
